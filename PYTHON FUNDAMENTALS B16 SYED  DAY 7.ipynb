{
 "cells": [
  {
   "cell_type": "code",
   "execution_count": null,
   "metadata": {},
   "outputs": [],
   "source": [
    "#Introduction to IF condition"
   ]
  },
  {
   "cell_type": "code",
   "execution_count": 1,
   "metadata": {},
   "outputs": [
    {
     "name": "stdout",
     "output_type": "stream",
     "text": [
      "['bmw', 'audi', 'benz', 'tayota', 'maruthi']\n"
     ]
    }
   ],
   "source": [
    "cars=['bmw','audi','benz','tayota','maruthi']\n",
    "print(cars)"
   ]
  },
  {
   "cell_type": "code",
   "execution_count": 2,
   "metadata": {},
   "outputs": [
    {
     "name": "stdout",
     "output_type": "stream",
     "text": [
      "BMW\n",
      "Audi\n",
      "Benz\n",
      "Tayota\n",
      "Maruthi\n"
     ]
    }
   ],
   "source": [
    "cars=['bmw','audi','benz','tayota','maruthi']\n",
    "for car in cars:\n",
    "    if car=='bmw':\n",
    "        print(car.upper())\n",
    "    else:\n",
    "        print(car.title())"
   ]
  },
  {
   "cell_type": "code",
   "execution_count": null,
   "metadata": {},
   "outputs": [],
   "source": [
    "#user defined inputs"
   ]
  },
  {
   "cell_type": "code",
   "execution_count": 3,
   "metadata": {},
   "outputs": [
    {
     "name": "stdout",
     "output_type": "stream",
     "text": [
      "tell me something and i will repeat it for youHi Syed Faraz Abdul Karim\n",
      "Hi Syed Faraz Abdul Karim\n"
     ]
    }
   ],
   "source": [
    "message=input('tell me something and i will repeat it for you')\n",
    "print(message)"
   ]
  },
  {
   "cell_type": "code",
   "execution_count": null,
   "metadata": {},
   "outputs": [],
   "source": [
    "#Enhancement in above code"
   ]
  },
  {
   "cell_type": "code",
   "execution_count": 5,
   "metadata": {},
   "outputs": [
    {
     "name": "stdout",
     "output_type": "stream",
     "text": [
      "please enter your name:syed faraz abdul karim\n",
      "\n",
      " Hello good to see you in the session:  SYED FARAZ ABDUL KARIM\n"
     ]
    }
   ],
   "source": [
    "name=input('please enter your name:')\n",
    "print(f\"\\n Hello good to see you in the session:  {name.upper()}\")"
   ]
  },
  {
   "cell_type": "code",
   "execution_count": null,
   "metadata": {},
   "outputs": [],
   "source": [
    "#input by default is a string, we need to convert to other data type as per requirement"
   ]
  },
  {
   "cell_type": "code",
   "execution_count": 13,
   "metadata": {},
   "outputs": [
    {
     "name": "stdout",
     "output_type": "stream",
     "text": [
      "please enter your height:5.2\n",
      "true\n"
     ]
    }
   ],
   "source": [
    "height=input('please enter your height:')\n",
    "height=float(height)\n",
    "if height>=5:\n",
    "    print('true')\n",
    "else:\n",
    "    print('false')"
   ]
  },
  {
   "cell_type": "code",
   "execution_count": 14,
   "metadata": {},
   "outputs": [
    {
     "name": "stdout",
     "output_type": "stream",
     "text": [
      "please enter your height:4.9\n",
      "false\n"
     ]
    }
   ],
   "source": [
    "height=input('please enter your height:')\n",
    "height=float(height)\n",
    "if height>=5:\n",
    "    print('true')\n",
    "else:\n",
    "    print('false')"
   ]
  },
  {
   "cell_type": "code",
   "execution_count": null,
   "metadata": {},
   "outputs": [],
   "source": []
  },
  {
   "cell_type": "code",
   "execution_count": null,
   "metadata": {},
   "outputs": [],
   "source": []
  },
  {
   "cell_type": "code",
   "execution_count": null,
   "metadata": {},
   "outputs": [],
   "source": []
  },
  {
   "cell_type": "code",
   "execution_count": null,
   "metadata": {},
   "outputs": [],
   "source": [
    "#Voting application"
   ]
  },
  {
   "cell_type": "code",
   "execution_count": 18,
   "metadata": {},
   "outputs": [
    {
     "name": "stdout",
     "output_type": "stream",
     "text": [
      "If you are indian type 1 and non Indian 2:    1\n",
      "How old are you:19\n",
      "You are allowed to vote\n"
     ]
    }
   ],
   "source": [
    "country=input('If you are indian type 1 and non Indian 2:    ')\n",
    "country=int(country)\n",
    "if country==1:\n",
    "        age=input('How old are you:')\n",
    "        age=int(age)\n",
    "        if age>=18:\n",
    "            print('You are allowed to vote')\n",
    "        else:\n",
    "            print('though you are Indian you are allowed after 18years age')\n",
    "else:\n",
    "    print('Only Indians are elligible')        "
   ]
  },
  {
   "cell_type": "code",
   "execution_count": 19,
   "metadata": {},
   "outputs": [
    {
     "name": "stdout",
     "output_type": "stream",
     "text": [
      "If you are indian type 1 and non Indian 2:    2\n",
      "Only Indians are elligible\n"
     ]
    }
   ],
   "source": [
    "country=input('If you are indian type 1 and non Indian 2:    ')\n",
    "country=int(country)\n",
    "if country==1:\n",
    "        age=input('How old are you:')\n",
    "        age=int(age)\n",
    "        if age>=18:\n",
    "            print('You are allowed to vote')\n",
    "        else:\n",
    "            print('though you are Indian you are allowed after 18years age')\n",
    "else:\n",
    "    print('Only Indians are elligible')"
   ]
  },
  {
   "cell_type": "code",
   "execution_count": 20,
   "metadata": {},
   "outputs": [
    {
     "name": "stdout",
     "output_type": "stream",
     "text": [
      "If you are indian type 1 and non Indian 2:    1\n",
      "How old are you:17\n",
      "though you are Indian you are allowed after 18years age\n"
     ]
    }
   ],
   "source": [
    "country=input('If you are indian type 1 and non Indian 2:    ')\n",
    "country=int(country)\n",
    "if country==1:\n",
    "        age=input('How old are you:')\n",
    "        age=int(age)\n",
    "        if age>=18:\n",
    "            print('You are allowed to vote')\n",
    "        else:\n",
    "            print('though you are Indian you are allowed after 18years age')\n",
    "else:\n",
    "    print('Only Indians are elligible')"
   ]
  },
  {
   "cell_type": "code",
   "execution_count": null,
   "metadata": {},
   "outputs": [],
   "source": []
  }
 ],
 "metadata": {
  "kernelspec": {
   "display_name": "Python 3",
   "language": "python",
   "name": "python3"
  },
  "language_info": {
   "codemirror_mode": {
    "name": "ipython",
    "version": 3
   },
   "file_extension": ".py",
   "mimetype": "text/x-python",
   "name": "python",
   "nbconvert_exporter": "python",
   "pygments_lexer": "ipython3",
   "version": "3.7.6"
  }
 },
 "nbformat": 4,
 "nbformat_minor": 4
}
