{
 "cells": [
  {
   "cell_type": "code",
   "execution_count": null,
   "metadata": {},
   "outputs": [],
   "source": [
    "#CASE STUDY BUILDING A SIMPLE VOTING APPLICATION"
   ]
  },
  {
   "cell_type": "code",
   "execution_count": 2,
   "metadata": {},
   "outputs": [
    {
     "name": "stdout",
     "output_type": "stream",
     "text": [
      "Enter your country name:    India\n",
      "How old are you:18\n",
      "You are allowed to vote\n"
     ]
    }
   ],
   "source": [
    "country=input('Enter your country name:    ')\n",
    "if country=='India':\n",
    "        age=input('How old are you:')\n",
    "        age=int(age)\n",
    "        if age>=18:\n",
    "            print('You are allowed to vote')\n",
    "        else:\n",
    "            print('though you are Indian you are allowed after 18years age')\n",
    "else:\n",
    "    print('Only Indians are elligible')        "
   ]
  },
  {
   "cell_type": "code",
   "execution_count": null,
   "metadata": {},
   "outputs": [],
   "source": []
  },
  {
   "cell_type": "code",
   "execution_count": 3,
   "metadata": {},
   "outputs": [
    {
     "name": "stdout",
     "output_type": "stream",
     "text": [
      "If you are indian type Yes and non Indian no:    yes\n",
      "How old are you:14\n",
      "though you are Indian you are allowed after 18years age\n"
     ]
    }
   ],
   "source": [
    "country=input('If you are indian type Yes and non Indian no:    ')\n",
    "\n",
    "if country=='yes':\n",
    "        age=input('How old are you:')\n",
    "        age=int(age)\n",
    "        if age>=18:\n",
    "            print('You are allowed to vote')\n",
    "        else:\n",
    "            print('though you are Indian you are allowed after 18years age')\n",
    "else:\n",
    "    print('Only Indians are elligible')        "
   ]
  },
  {
   "cell_type": "code",
   "execution_count": 4,
   "metadata": {},
   "outputs": [
    {
     "name": "stdout",
     "output_type": "stream",
     "text": [
      "If you are indian type 1 and non Indian 2:    1\n",
      "How old are you:19\n",
      "You are allowed to vote\n"
     ]
    }
   ],
   "source": [
    "country=input('If you are indian type 1 and non Indian 2:    ')\n",
    "country=int(country)\n",
    "if country==1:\n",
    "        age=input('How old are you:')\n",
    "        age=int(age)\n",
    "        if age>=18:\n",
    "            print('You are allowed to vote')\n",
    "        else:\n",
    "            print('though you are Indian you are allowed after 18years age')\n",
    "else:\n",
    "    print('Only Indians are elligible')        "
   ]
  },
  {
   "cell_type": "code",
   "execution_count": null,
   "metadata": {},
   "outputs": [],
   "source": []
  }
 ],
 "metadata": {
  "kernelspec": {
   "display_name": "Python 3",
   "language": "python",
   "name": "python3"
  },
  "language_info": {
   "codemirror_mode": {
    "name": "ipython",
    "version": 3
   },
   "file_extension": ".py",
   "mimetype": "text/x-python",
   "name": "python",
   "nbconvert_exporter": "python",
   "pygments_lexer": "ipython3",
   "version": "3.7.6"
  }
 },
 "nbformat": 4,
 "nbformat_minor": 4
}
