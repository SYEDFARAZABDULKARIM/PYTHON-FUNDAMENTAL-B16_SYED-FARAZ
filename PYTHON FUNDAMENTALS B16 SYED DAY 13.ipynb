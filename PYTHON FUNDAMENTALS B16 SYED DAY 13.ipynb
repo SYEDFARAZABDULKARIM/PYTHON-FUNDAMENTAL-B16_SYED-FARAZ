{
 "cells": [
  {
   "cell_type": "code",
   "execution_count": null,
   "metadata": {},
   "outputs": [],
   "source": [
    "#Day 13 practice work"
   ]
  },
  {
   "cell_type": "code",
   "execution_count": null,
   "metadata": {},
   "outputs": [],
   "source": [
    "#Types of arguments:1. Positional argument\n",
    "                    2. Key words arguments\n",
    "                    3.Default arguments"
   ]
  },
  {
   "cell_type": "code",
   "execution_count": null,
   "metadata": {},
   "outputs": [],
   "source": [
    "#1.Positional arguments"
   ]
  },
  {
   "cell_type": "code",
   "execution_count": 5,
   "metadata": {},
   "outputs": [],
   "source": [
    "def fav_student(class_no,studentname):\n",
    "    \n",
    "    \"\"\"Display the class and student name\"\"\"\n",
    "    \n",
    "    print(f\"I have a favourite student in  {class_no}\")\n",
    "    \n",
    "    print(f\"\\n My favourite student of {class_no} class is {studentname}\")"
   ]
  },
  {
   "cell_type": "code",
   "execution_count": 6,
   "metadata": {},
   "outputs": [
    {
     "name": "stdout",
     "output_type": "stream",
     "text": [
      "I have a favourite student in  tenth\n",
      "\n",
      " My favourite student of tenth class is faiz\n"
     ]
    }
   ],
   "source": [
    "fav_student('tenth','faiz')"
   ]
  },
  {
   "cell_type": "code",
   "execution_count": null,
   "metadata": {},
   "outputs": [],
   "source": [
    "#Reverse order in arguments is not possible"
   ]
  },
  {
   "cell_type": "code",
   "execution_count": 7,
   "metadata": {},
   "outputs": [
    {
     "name": "stdout",
     "output_type": "stream",
     "text": [
      "I have a favourite student in  faiz\n",
      "\n",
      " My favourite student of faiz class is tenth\n"
     ]
    }
   ],
   "source": [
    "fav_student('faiz','tenth')"
   ]
  },
  {
   "cell_type": "code",
   "execution_count": null,
   "metadata": {},
   "outputs": [],
   "source": [
    "#To overcome this condition "
   ]
  },
  {
   "cell_type": "code",
   "execution_count": null,
   "metadata": {},
   "outputs": [],
   "source": [
    "#Key word arguments"
   ]
  },
  {
   "cell_type": "code",
   "execution_count": 8,
   "metadata": {},
   "outputs": [
    {
     "name": "stdout",
     "output_type": "stream",
     "text": [
      "I have a favourite student in  tenth\n",
      "\n",
      " My favourite student of tenth class is faiz\n"
     ]
    }
   ],
   "source": [
    "fav_student(studentname='faiz',class_no='tenth')"
   ]
  },
  {
   "cell_type": "code",
   "execution_count": null,
   "metadata": {},
   "outputs": [],
   "source": [
    "#we cannot give missing argumets"
   ]
  },
  {
   "cell_type": "code",
   "execution_count": 9,
   "metadata": {},
   "outputs": [
    {
     "ename": "TypeError",
     "evalue": "fav_student() missing 1 required positional argument: 'studentname'",
     "output_type": "error",
     "traceback": [
      "\u001b[1;31m---------------------------------------------------------------------------\u001b[0m",
      "\u001b[1;31mTypeError\u001b[0m                                 Traceback (most recent call last)",
      "\u001b[1;32m<ipython-input-9-6c97fff2684f>\u001b[0m in \u001b[0;36m<module>\u001b[1;34m\u001b[0m\n\u001b[1;32m----> 1\u001b[1;33m \u001b[0mfav_student\u001b[0m\u001b[1;33m(\u001b[0m\u001b[1;34m'faiz'\u001b[0m\u001b[1;33m)\u001b[0m\u001b[1;33m\u001b[0m\u001b[1;33m\u001b[0m\u001b[0m\n\u001b[0m",
      "\u001b[1;31mTypeError\u001b[0m: fav_student() missing 1 required positional argument: 'studentname'"
     ]
    }
   ],
   "source": [
    "fav_student('faiz')"
   ]
  },
  {
   "cell_type": "code",
   "execution_count": null,
   "metadata": {},
   "outputs": [],
   "source": [
    "#3. Default arguments"
   ]
  },
  {
   "cell_type": "code",
   "execution_count": 10,
   "metadata": {},
   "outputs": [
    {
     "ename": "SyntaxError",
     "evalue": "non-default argument follows default argument (<ipython-input-10-d1c1b332ae27>, line 1)",
     "output_type": "error",
     "traceback": [
      "\u001b[1;36m  File \u001b[1;32m\"<ipython-input-10-d1c1b332ae27>\"\u001b[1;36m, line \u001b[1;32m1\u001b[0m\n\u001b[1;33m    def fav_student(class_no='tenth',studentname):\u001b[0m\n\u001b[1;37m                   ^\u001b[0m\n\u001b[1;31mSyntaxError\u001b[0m\u001b[1;31m:\u001b[0m non-default argument follows default argument\n"
     ]
    }
   ],
   "source": [
    "def fav_student(class_no='tenth',studentname):\n",
    "    \n",
    "    \"\"\"Display the class and student name\"\"\"\n",
    "            \n",
    "    print(f\"I have a favourite student in  {class_no}\")\n",
    "    \n",
    "    print(f\"\\n My favourite student of {class_no} class is {studentname}\")\n",
    "        "
   ]
  },
  {
   "cell_type": "code",
   "execution_count": null,
   "metadata": {},
   "outputs": [],
   "source": [
    "#Default argument should come last"
   ]
  },
  {
   "cell_type": "code",
   "execution_count": 11,
   "metadata": {},
   "outputs": [],
   "source": [
    "def fav_student(studentname,class_no='tenth'):\n",
    "    \n",
    "    \"\"\"Display the class and student name\"\"\"\n",
    "            \n",
    "    print(f\"I have a favourite student in  {class_no}\")\n",
    "    \n",
    "    print(f\"\\n My favourite student of {class_no} class is {studentname}\")"
   ]
  },
  {
   "cell_type": "code",
   "execution_count": 12,
   "metadata": {},
   "outputs": [
    {
     "name": "stdout",
     "output_type": "stream",
     "text": [
      "I have a favourite student in  tenth\n",
      "\n",
      " My favourite student of tenth class is faiz\n"
     ]
    }
   ],
   "source": [
    "fav_student('faiz')"
   ]
  },
  {
   "cell_type": "code",
   "execution_count": null,
   "metadata": {},
   "outputs": [],
   "source": [
    "#we can also change default argument"
   ]
  },
  {
   "cell_type": "code",
   "execution_count": 13,
   "metadata": {},
   "outputs": [
    {
     "name": "stdout",
     "output_type": "stream",
     "text": [
      "I have a favourite student in  Eighth\n",
      "\n",
      " My favourite student of Eighth class is faiz\n"
     ]
    }
   ],
   "source": [
    "fav_student('faiz','Eighth')"
   ]
  },
  {
   "cell_type": "code",
   "execution_count": null,
   "metadata": {},
   "outputs": [],
   "source": []
  }
 ],
 "metadata": {
  "kernelspec": {
   "display_name": "Python 3",
   "language": "python",
   "name": "python3"
  },
  "language_info": {
   "codemirror_mode": {
    "name": "ipython",
    "version": 3
   },
   "file_extension": ".py",
   "mimetype": "text/x-python",
   "name": "python",
   "nbconvert_exporter": "python",
   "pygments_lexer": "ipython3",
   "version": "3.7.6"
  }
 },
 "nbformat": 4,
 "nbformat_minor": 4
}
