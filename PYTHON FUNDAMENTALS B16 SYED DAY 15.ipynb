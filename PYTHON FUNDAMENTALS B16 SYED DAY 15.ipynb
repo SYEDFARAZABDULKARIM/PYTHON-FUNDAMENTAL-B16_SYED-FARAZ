{
 "cells": [
  {
   "cell_type": "code",
   "execution_count": null,
   "metadata": {},
   "outputs": [],
   "source": [
    "#Day 15 "
   ]
  },
  {
   "cell_type": "code",
   "execution_count": 3,
   "metadata": {},
   "outputs": [],
   "source": [
    "#Case study:\n",
    " #   Req:1) Take the name from the user as input\n",
    "  #      2) Display user name \n",
    "   #     3) Greet the user"
   ]
  },
  {
   "cell_type": "code",
   "execution_count": 4,
   "metadata": {},
   "outputs": [],
   "source": [
    "class test:\n",
    "    \n",
    "    \"\"\"Design a program for the login page\"\"\"\n",
    "    def createname(self,name):\n",
    "        self.name=name\n",
    "        \n",
    "    def displayname(self):\n",
    "        return self.name\n",
    "    \n",
    "    def greetname(self):\n",
    "        print(f\"Welcomeback  to amazon \\n good to have you again:{self.name}\")"
   ]
  },
  {
   "cell_type": "code",
   "execution_count": 5,
   "metadata": {},
   "outputs": [],
   "source": [
    "abc=test()"
   ]
  },
  {
   "cell_type": "code",
   "execution_count": 6,
   "metadata": {},
   "outputs": [],
   "source": [
    "abc.createname('faraz')"
   ]
  },
  {
   "cell_type": "code",
   "execution_count": 7,
   "metadata": {},
   "outputs": [
    {
     "data": {
      "text/plain": [
       "'faraz'"
      ]
     },
     "execution_count": 7,
     "metadata": {},
     "output_type": "execute_result"
    }
   ],
   "source": [
    "abc.displayname()"
   ]
  },
  {
   "cell_type": "code",
   "execution_count": 8,
   "metadata": {},
   "outputs": [
    {
     "name": "stdout",
     "output_type": "stream",
     "text": [
      "Welcomeback  to amazon \n",
      " good to have you again:faraz\n"
     ]
    }
   ],
   "source": [
    "abc.greetname()"
   ]
  },
  {
   "cell_type": "code",
   "execution_count": null,
   "metadata": {},
   "outputs": [],
   "source": []
  },
  {
   "cell_type": "code",
   "execution_count": 18,
   "metadata": {},
   "outputs": [],
   "source": [
    "class ranker:\n",
    "    \n",
    "    \"\"\"Design a program for the login page\"\"\"\n",
    "    def createname(rank,name):\n",
    "        rank.name=name\n",
    "        \n",
    "    def displayname(rank):\n",
    "        return rank.name\n",
    "    \n",
    "    def greetname(rank):\n",
    "        print(f\"Welcomeback  to amazon \\n good to have you again:{rank.name}\")"
   ]
  },
  {
   "cell_type": "code",
   "execution_count": 19,
   "metadata": {},
   "outputs": [],
   "source": [
    "xyz=ranker()"
   ]
  },
  {
   "cell_type": "code",
   "execution_count": 20,
   "metadata": {},
   "outputs": [],
   "source": [
    "xyz.createname('fawaz')"
   ]
  },
  {
   "cell_type": "code",
   "execution_count": 21,
   "metadata": {},
   "outputs": [
    {
     "data": {
      "text/plain": [
       "'fawaz'"
      ]
     },
     "execution_count": 21,
     "metadata": {},
     "output_type": "execute_result"
    }
   ],
   "source": [
    "xyz.displayname()"
   ]
  },
  {
   "cell_type": "code",
   "execution_count": 22,
   "metadata": {},
   "outputs": [
    {
     "name": "stdout",
     "output_type": "stream",
     "text": [
      "Welcomeback  to amazon \n",
      " good to have you again:fawaz\n"
     ]
    }
   ],
   "source": [
    "xyz.greetname()"
   ]
  },
  {
   "cell_type": "code",
   "execution_count": null,
   "metadata": {},
   "outputs": [],
   "source": []
  }
 ],
 "metadata": {
  "kernelspec": {
   "display_name": "Python 3",
   "language": "python",
   "name": "python3"
  },
  "language_info": {
   "codemirror_mode": {
    "name": "ipython",
    "version": 3
   },
   "file_extension": ".py",
   "mimetype": "text/x-python",
   "name": "python",
   "nbconvert_exporter": "python",
   "pygments_lexer": "ipython3",
   "version": "3.7.6"
  }
 },
 "nbformat": 4,
 "nbformat_minor": 4
}
