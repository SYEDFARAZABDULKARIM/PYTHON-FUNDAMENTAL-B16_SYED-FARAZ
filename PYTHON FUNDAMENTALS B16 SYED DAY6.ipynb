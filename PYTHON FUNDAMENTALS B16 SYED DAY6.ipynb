{
 "cells": [
  {
   "cell_type": "code",
   "execution_count": null,
   "metadata": {},
   "outputs": [],
   "source": []
  },
  {
   "cell_type": "code",
   "execution_count": 24,
   "metadata": {},
   "outputs": [],
   "source": [
    "#DAY 6 Introduction to looping statements"
   ]
  },
  {
   "cell_type": "code",
   "execution_count": 25,
   "metadata": {},
   "outputs": [],
   "source": [
    "students=['syed','faraz','abdul','karim','irfan','hidayath','zia','aslam']"
   ]
  },
  {
   "cell_type": "code",
   "execution_count": 26,
   "metadata": {},
   "outputs": [],
   "source": [
    "#to apreciate each and every student for their work"
   ]
  },
  {
   "cell_type": "code",
   "execution_count": 27,
   "metadata": {},
   "outputs": [
    {
     "name": "stdout",
     "output_type": "stream",
     "text": [
      "Keep Up Your Good Work,Abdul\n"
     ]
    }
   ],
   "source": [
    "students=['syed','faraz','abdul','karim','irfan','hidayath','zia','aslam']\n",
    "message=f\"keep up your good work,{students[2]}\"\n",
    "print(message.title())"
   ]
  },
  {
   "cell_type": "code",
   "execution_count": 22,
   "metadata": {},
   "outputs": [],
   "source": [
    "#if we want to apply for all list so it can be easily obtained by using for loop"
   ]
  },
  {
   "cell_type": "code",
   "execution_count": 23,
   "metadata": {},
   "outputs": [
    {
     "name": "stdout",
     "output_type": "stream",
     "text": [
      "You Are Doing Good Job,Abdul\n",
      "Keep Doing Practice For Good Result,Abdul\n",
      "\n",
      "You Are Doing Good Job,Aslam\n",
      "Keep Doing Practice For Good Result,Aslam\n",
      "\n",
      "You Are Doing Good Job,Faraz\n",
      "Keep Doing Practice For Good Result,Faraz\n",
      "\n",
      "You Are Doing Good Job,Hidayath\n",
      "Keep Doing Practice For Good Result,Hidayath\n",
      "\n",
      "You Are Doing Good Job,Irfan\n",
      "Keep Doing Practice For Good Result,Irfan\n",
      "\n",
      "You Are Doing Good Job,Karim\n",
      "Keep Doing Practice For Good Result,Karim\n",
      "\n",
      "You Are Doing Good Job,Syed\n",
      "Keep Doing Practice For Good Result,Syed\n",
      "\n",
      "You Are Doing Good Job,Zia\n",
      "Keep Doing Practice For Good Result,Zia\n",
      "\n"
     ]
    }
   ],
   "source": [
    "students=['syed','faraz','abdul','karim','irfan','hidayath','zia','aslam']\n",
    "students.sort()\n",
    "for good in students:\n",
    "    message1=f\"you are doing good job,{good}\"\n",
    "    message2=f\"keep doing practice for good result,{good}\\n\"\n",
    "    print(f\"{message1.title()}\\n{message2.title()}\")"
   ]
  },
  {
   "cell_type": "code",
   "execution_count": null,
   "metadata": {},
   "outputs": [],
   "source": []
  },
  {
   "cell_type": "code",
   "execution_count": null,
   "metadata": {},
   "outputs": [],
   "source": []
  },
  {
   "cell_type": "code",
   "execution_count": null,
   "metadata": {},
   "outputs": [],
   "source": []
  },
  {
   "cell_type": "code",
   "execution_count": null,
   "metadata": {},
   "outputs": [],
   "source": []
  },
  {
   "cell_type": "code",
   "execution_count": null,
   "metadata": {},
   "outputs": [],
   "source": []
  },
  {
   "cell_type": "code",
   "execution_count": null,
   "metadata": {},
   "outputs": [],
   "source": []
  },
  {
   "cell_type": "code",
   "execution_count": null,
   "metadata": {},
   "outputs": [],
   "source": []
  },
  {
   "cell_type": "code",
   "execution_count": null,
   "metadata": {},
   "outputs": [],
   "source": []
  },
  {
   "cell_type": "code",
   "execution_count": null,
   "metadata": {},
   "outputs": [],
   "source": []
  },
  {
   "cell_type": "code",
   "execution_count": null,
   "metadata": {},
   "outputs": [],
   "source": []
  },
  {
   "cell_type": "code",
   "execution_count": null,
   "metadata": {},
   "outputs": [],
   "source": []
  },
  {
   "cell_type": "code",
   "execution_count": null,
   "metadata": {},
   "outputs": [],
   "source": []
  }
 ],
 "metadata": {
  "kernelspec": {
   "display_name": "Python 3",
   "language": "python",
   "name": "python3"
  },
  "language_info": {
   "codemirror_mode": {
    "name": "ipython",
    "version": 3
   },
   "file_extension": ".py",
   "mimetype": "text/x-python",
   "name": "python",
   "nbconvert_exporter": "python",
   "pygments_lexer": "ipython3",
   "version": "3.7.6"
  }
 },
 "nbformat": 4,
 "nbformat_minor": 4
}
