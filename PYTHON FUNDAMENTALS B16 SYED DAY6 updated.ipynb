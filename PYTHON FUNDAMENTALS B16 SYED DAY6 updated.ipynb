{
 "cells": [
  {
   "cell_type": "code",
   "execution_count": null,
   "metadata": {},
   "outputs": [],
   "source": []
  },
  {
   "cell_type": "code",
   "execution_count": 24,
   "metadata": {},
   "outputs": [],
   "source": [
    "#DAY 6 Introduction to looping statements"
   ]
  },
  {
   "cell_type": "code",
   "execution_count": 25,
   "metadata": {},
   "outputs": [],
   "source": [
    "students=['syed','faraz','abdul','karim','irfan','hidayath','zia','aslam']"
   ]
  },
  {
   "cell_type": "code",
   "execution_count": 26,
   "metadata": {},
   "outputs": [],
   "source": [
    "#to apreciate each and every student for their work"
   ]
  },
  {
   "cell_type": "code",
   "execution_count": 27,
   "metadata": {},
   "outputs": [
    {
     "name": "stdout",
     "output_type": "stream",
     "text": [
      "Keep Up Your Good Work,Abdul\n"
     ]
    }
   ],
   "source": [
    "students=['syed','faraz','abdul','karim','irfan','hidayath','zia','aslam']\n",
    "message=f\"keep up your good work,{students[2]}\"\n",
    "print(message.title())"
   ]
  },
  {
   "cell_type": "code",
   "execution_count": null,
   "metadata": {},
   "outputs": [],
   "source": []
  },
  {
   "cell_type": "code",
   "execution_count": 22,
   "metadata": {},
   "outputs": [],
   "source": [
    "#if we want to apply for all list so it can be easily obtained by using for loop"
   ]
  },
  {
   "cell_type": "code",
   "execution_count": 23,
   "metadata": {},
   "outputs": [
    {
     "name": "stdout",
     "output_type": "stream",
     "text": [
      "You Are Doing Good Job,Abdul\n",
      "Keep Doing Practice For Good Result,Abdul\n",
      "\n",
      "You Are Doing Good Job,Aslam\n",
      "Keep Doing Practice For Good Result,Aslam\n",
      "\n",
      "You Are Doing Good Job,Faraz\n",
      "Keep Doing Practice For Good Result,Faraz\n",
      "\n",
      "You Are Doing Good Job,Hidayath\n",
      "Keep Doing Practice For Good Result,Hidayath\n",
      "\n",
      "You Are Doing Good Job,Irfan\n",
      "Keep Doing Practice For Good Result,Irfan\n",
      "\n",
      "You Are Doing Good Job,Karim\n",
      "Keep Doing Practice For Good Result,Karim\n",
      "\n",
      "You Are Doing Good Job,Syed\n",
      "Keep Doing Practice For Good Result,Syed\n",
      "\n",
      "You Are Doing Good Job,Zia\n",
      "Keep Doing Practice For Good Result,Zia\n",
      "\n"
     ]
    }
   ],
   "source": [
    "students=['syed','faraz','abdul','karim','irfan','hidayath','zia','aslam']\n",
    "students.sort()\n",
    "for good in students:\n",
    "    message1=f\"you are doing good job,{good}\"\n",
    "    message2=f\"keep doing practice for good result,{good}\\n\"\n",
    "    print(f\"{message1.title()}\\n{message2.title()}\")"
   ]
  },
  {
   "cell_type": "code",
   "execution_count": null,
   "metadata": {},
   "outputs": [],
   "source": [
    "#To add message for all at end"
   ]
  },
  {
   "cell_type": "code",
   "execution_count": 31,
   "metadata": {},
   "outputs": [
    {
     "name": "stdout",
     "output_type": "stream",
     "text": [
      "You Are Doing Good Job,Abdul\n",
      "Keep Doing Practice For Good Result,Abdul\n",
      "\n",
      "You Are Doing Good Job,Aslam\n",
      "Keep Doing Practice For Good Result,Aslam\n",
      "\n",
      "You Are Doing Good Job,Faraz\n",
      "Keep Doing Practice For Good Result,Faraz\n",
      "\n",
      "You Are Doing Good Job,Hidayath\n",
      "Keep Doing Practice For Good Result,Hidayath\n",
      "\n",
      "You Are Doing Good Job,Irfan\n",
      "Keep Doing Practice For Good Result,Irfan\n",
      "\n",
      "You Are Doing Good Job,Karim\n",
      "Keep Doing Practice For Good Result,Karim\n",
      "\n",
      "You Are Doing Good Job,Syed\n",
      "Keep Doing Practice For Good Result,Syed\n",
      "\n",
      "You Are Doing Good Job,Zia\n",
      "Keep Doing Practice For Good Result,Zia\n",
      "\n",
      "Thank you all\n"
     ]
    }
   ],
   "source": [
    "students=['syed','faraz','abdul','karim','irfan','hidayath','zia','aslam']\n",
    "students.sort()\n",
    "for good in students:\n",
    "    message1=f\"you are doing good job,{good}\"\n",
    "    message2=f\"keep doing practice for good result,{good}\\n\"\n",
    "    print(f\"{message1.title()}\\n{message2.title()}\")\n",
    "print('Thank you all')"
   ]
  },
  {
   "cell_type": "code",
   "execution_count": null,
   "metadata": {},
   "outputs": [],
   "source": []
  },
  {
   "cell_type": "code",
   "execution_count": null,
   "metadata": {},
   "outputs": [],
   "source": [
    "# TO PRINT NUMBERS 1 TO 30"
   ]
  },
  {
   "cell_type": "code",
   "execution_count": null,
   "metadata": {},
   "outputs": [],
   "source": [
    "#Making a numerical list with the help of for loop: 1 to 30"
   ]
  },
  {
   "cell_type": "code",
   "execution_count": 29,
   "metadata": {},
   "outputs": [
    {
     "name": "stdout",
     "output_type": "stream",
     "text": [
      "1\n",
      "2\n",
      "3\n",
      "4\n",
      "5\n",
      "6\n",
      "7\n",
      "8\n",
      "9\n",
      "10\n",
      "11\n",
      "12\n",
      "13\n",
      "14\n",
      "15\n",
      "16\n",
      "17\n",
      "18\n",
      "19\n",
      "20\n",
      "21\n",
      "22\n",
      "23\n",
      "24\n",
      "25\n",
      "26\n",
      "27\n",
      "28\n",
      "29\n",
      "30\n"
     ]
    }
   ],
   "source": [
    "for value in range(1,31):\n",
    "    print(value)"
   ]
  },
  {
   "cell_type": "code",
   "execution_count": null,
   "metadata": {},
   "outputs": [],
   "source": [
    "#To print numbers in a line"
   ]
  },
  {
   "cell_type": "code",
   "execution_count": 34,
   "metadata": {},
   "outputs": [
    {
     "name": "stdout",
     "output_type": "stream",
     "text": [
      "[1, 2, 3, 4, 5, 6, 7, 8, 9, 10, 11, 12, 13, 14, 15, 16, 17, 18, 19, 20, 21, 22, 23, 24, 25, 26, 27, 28, 29, 30]\n"
     ]
    }
   ],
   "source": [
    "numbers=list(range(1,31))\n",
    "print(numbers)"
   ]
  },
  {
   "cell_type": "code",
   "execution_count": null,
   "metadata": {},
   "outputs": [],
   "source": []
  },
  {
   "cell_type": "code",
   "execution_count": null,
   "metadata": {},
   "outputs": [],
   "source": []
  },
  {
   "cell_type": "code",
   "execution_count": null,
   "metadata": {},
   "outputs": [],
   "source": []
  },
  {
   "cell_type": "code",
   "execution_count": null,
   "metadata": {},
   "outputs": [],
   "source": []
  },
  {
   "cell_type": "code",
   "execution_count": null,
   "metadata": {},
   "outputs": [],
   "source": []
  },
  {
   "cell_type": "code",
   "execution_count": null,
   "metadata": {},
   "outputs": [],
   "source": []
  },
  {
   "cell_type": "code",
   "execution_count": null,
   "metadata": {},
   "outputs": [],
   "source": []
  }
 ],
 "metadata": {
  "kernelspec": {
   "display_name": "Python 3",
   "language": "python",
   "name": "python3"
  },
  "language_info": {
   "codemirror_mode": {
    "name": "ipython",
    "version": 3
   },
   "file_extension": ".py",
   "mimetype": "text/x-python",
   "name": "python",
   "nbconvert_exporter": "python",
   "pygments_lexer": "ipython3",
   "version": "3.7.6"
  }
 },
 "nbformat": 4,
 "nbformat_minor": 4
}
