{
 "cells": [
  {
   "cell_type": "code",
   "execution_count": null,
   "metadata": {},
   "outputs": [],
   "source": [
    "#DAY 14 PRACTICE WORK"
   ]
  },
  {
   "cell_type": "code",
   "execution_count": null,
   "metadata": {},
   "outputs": [],
   "source": [
    "#RETURN VALUES OF FUNCTION"
   ]
  },
  {
   "cell_type": "code",
   "execution_count": 1,
   "metadata": {},
   "outputs": [],
   "source": [
    "def get_formatted_name(first_name,last_name):\n",
    "    \n",
    "    \"\"\"Return a full name neatly and formatted\"\"\"\n",
    "    \n",
    "    full_name=f\"{first_name} {last_name}\"\n",
    "    \n",
    "    return full_name.title()\n"
   ]
  },
  {
   "cell_type": "code",
   "execution_count": 2,
   "metadata": {},
   "outputs": [
    {
     "name": "stdout",
     "output_type": "stream",
     "text": [
      "Syed Faraz\n"
     ]
    }
   ],
   "source": [
    "student=get_formatted_name('syed','faraz')\n",
    "\n",
    "print(student)"
   ]
  },
  {
   "cell_type": "code",
   "execution_count": 3,
   "metadata": {},
   "outputs": [
    {
     "name": "stdout",
     "output_type": "stream",
     "text": [
      "Abdul Karim\n"
     ]
    }
   ],
   "source": [
    "student2=get_formatted_name('abdul','karim')\n",
    "\n",
    "print(student2)"
   ]
  },
  {
   "cell_type": "code",
   "execution_count": 4,
   "metadata": {},
   "outputs": [
    {
     "name": "stdout",
     "output_type": "stream",
     "text": [
      "Syed Faraz Abdul Karim\n"
     ]
    }
   ],
   "source": [
    "print(f'{student} {student2}')"
   ]
  },
  {
   "cell_type": "code",
   "execution_count": null,
   "metadata": {},
   "outputs": [],
   "source": []
  },
  {
   "cell_type": "code",
   "execution_count": null,
   "metadata": {},
   "outputs": [],
   "source": [
    "#Returning a dictionary"
   ]
  },
  {
   "cell_type": "code",
   "execution_count": 5,
   "metadata": {},
   "outputs": [],
   "source": [
    "def person_detail(first_name,last_name):\n",
    "    \n",
    "    \"\"\"Return a dictionary of information about a person\"\"\"\n",
    "    \n",
    "    person={'first':first_name,'last':last_name}\n",
    "    \n",
    "    return person\n"
   ]
  },
  {
   "cell_type": "code",
   "execution_count": 10,
   "metadata": {},
   "outputs": [
    {
     "name": "stdout",
     "output_type": "stream",
     "text": [
      "{'first': 'syed faraz', 'last': 'abdul karim'}\n"
     ]
    }
   ],
   "source": [
    "student3=person_detail('syed faraz','abdul karim')\n",
    "\n",
    "print(student3)"
   ]
  },
  {
   "cell_type": "code",
   "execution_count": null,
   "metadata": {},
   "outputs": [],
   "source": [
    "#Enhancment in code"
   ]
  },
  {
   "cell_type": "code",
   "execution_count": 15,
   "metadata": {},
   "outputs": [
    {
     "name": "stdout",
     "output_type": "stream",
     "text": [
      "{'first': 'syed faraz', 'last': 'abdul karim', 'age': '20', 'location': 'ar towers', 'pincode': 500008}\n"
     ]
    }
   ],
   "source": [
    "def person_detail(first_name,last_name,age,location,pincode):\n",
    "    \n",
    "    \"\"\"Return a dictionary of information about a person\"\"\"\n",
    "    \n",
    "    person={'first':first_name,'last':last_name,'age':age,'location':location,'pincode':pincode}\n",
    "\n",
    "    return person\n",
    "\n",
    "student4=person_detail('syed faraz','abdul karim','20','ar towers',500008)\n",
    "\n",
    "print(student4)"
   ]
  },
  {
   "cell_type": "code",
   "execution_count": null,
   "metadata": {},
   "outputs": [],
   "source": [
    "#passing a list to a function"
   ]
  },
  {
   "cell_type": "code",
   "execution_count": null,
   "metadata": {},
   "outputs": [],
   "source": []
  },
  {
   "cell_type": "code",
   "execution_count": 16,
   "metadata": {},
   "outputs": [],
   "source": [
    "birthday_wishes=['faiyaz','python_trainer','codetrainer','sir']"
   ]
  },
  {
   "cell_type": "code",
   "execution_count": 18,
   "metadata": {},
   "outputs": [
    {
     "name": "stdout",
     "output_type": "stream",
     "text": [
      "Many many happy returns of the day  FAIYAZ\n",
      "\n",
      "Many many happy returns of the day  PYTHON_TRAINER\n",
      "\n",
      "Many many happy returns of the day  CODETRAINER\n",
      "\n",
      "Many many happy returns of the day  SIR\n",
      "\n"
     ]
    }
   ],
   "source": [
    "def wishes_birthday(names):\n",
    "    \n",
    "    \"\"\"To give birthday wishes\"\"\"\n",
    "    \n",
    "    for wishes in names:\n",
    "    \n",
    "        msg=f\"Many many happy returns of the day  {wishes.upper()}\\n\"\n",
    "        \n",
    "        print(msg)\n",
    "        \n",
    "wishes_birthday(birthday_wishes)"
   ]
  }
 ],
 "metadata": {
  "kernelspec": {
   "display_name": "Python 3",
   "language": "python",
   "name": "python3"
  },
  "language_info": {
   "codemirror_mode": {
    "name": "ipython",
    "version": 3
   },
   "file_extension": ".py",
   "mimetype": "text/x-python",
   "name": "python",
   "nbconvert_exporter": "python",
   "pygments_lexer": "ipython3",
   "version": "3.7.6"
  }
 },
 "nbformat": 4,
 "nbformat_minor": 4
}
